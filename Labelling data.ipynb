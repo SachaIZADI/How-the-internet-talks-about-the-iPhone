{
 "cells": [
  {
   "cell_type": "markdown",
   "metadata": {},
   "source": [
    "This is what the interactive notebook looks like:\n",
    "\n",
    "\n",
    "\n",
    "\n",
    "<img src=\"Img/Visu.png\">"
   ]
  },
  {
   "cell_type": "code",
   "execution_count": 22,
   "metadata": {},
   "outputs": [],
   "source": [
    "from ipywidgets import widgets\n",
    "from IPython.display import display\n",
    "from IPython.core.display import HTML\n",
    "from IPython.display import clear_output\n",
    "from ipywidgets import Output\n",
    "import time\n",
    "\n",
    "import pandas as pd"
   ]
  },
  {
   "cell_type": "code",
   "execution_count": 23,
   "metadata": {},
   "outputs": [],
   "source": [
    "data = pd.read_csv(\"data_labeled_mathilde_eric.csv\",engine=\"python\")"
   ]
  },
  {
   "cell_type": "code",
   "execution_count": 25,
   "metadata": {},
   "outputs": [],
   "source": [
    "# Starting point \n",
    "start = 601\n",
    "\n",
    "# End point\n",
    "end = 801"
   ]
  },
  {
   "cell_type": "code",
   "execution_count": 26,
   "metadata": {},
   "outputs": [],
   "source": [
    "###### Run this only if the dataset 1st column is the index ######\n",
    "\n",
    "#data.drop(data.columns[0],axis=1,inplace=True)"
   ]
  },
  {
   "cell_type": "code",
   "execution_count": 27,
   "metadata": {
    "scrolled": true
   },
   "outputs": [
    {
     "data": {
      "text/html": [
       "<h3>This is the end, thanks for your help in labeling the data !</h3>"
      ],
      "text/plain": [
       "<IPython.core.display.HTML object>"
      ]
     },
     "metadata": {},
     "output_type": "display_data"
    }
   ],
   "source": [
    "button = []\n",
    "toRemove = []\n",
    "######## Starting Point ############\n",
    "i = start\n",
    "\n",
    "def change_value(i,j):\n",
    "    data.iloc[i,j] = 1\n",
    "\n",
    "on_button_click = [lambda b : change_value(i,1)]\n",
    "on_button_click += [lambda b : change_value(i,2)]\n",
    "on_button_click += [lambda b : change_value(i,3)]\n",
    "on_button_click += [lambda b : change_value(i,4)]\n",
    "on_button_click += [lambda b : change_value(i,5)]\n",
    "on_button_click += [lambda b : change_value(i,6)]\n",
    "on_button_click += [lambda b : change_value(i,7)]\n",
    "on_button_click += [lambda b : change_value(i,8)]\n",
    "on_button_click += [lambda b : change_value(i,9)]\n",
    "on_button_click += [lambda b : change_value(i,10)]\n",
    "on_button_click += [lambda b : change_value(i,11)]\n",
    "on_button_click += [lambda b : change_value(i,12)]\n",
    "on_button_click += [lambda b : change_value(i,13)]\n",
    "\n",
    "def button_next_click(b):\n",
    "    global i\n",
    "    i += 1\n",
    "    clear_output()\n",
    "    display(widgets.HBox([button_previous,button_remove,button_next]))\n",
    "    display(widgets.HBox(button[:6]))\n",
    "    display(widgets.HBox(button[6:]))\n",
    "    display(HTML(\"<h3>\"+str(i)+\" : \"+data.iloc[i].text+\"</h3>\"))\n",
    "    if i == end :\n",
    "        clear_output()\n",
    "        display(HTML(\"<h3>This is the end, thanks for your help in labeling the data !</h3>\"))\n",
    "\n",
    "    \n",
    "def button_remove_click(b):\n",
    "    global i\n",
    "    global toRemove\n",
    "    toRemove+=[i]\n",
    "    i += 1\n",
    "    clear_output()\n",
    "    display(widgets.HBox([button_previous,button_remove,button_next]))\n",
    "    display(widgets.HBox(button[:6]))\n",
    "    display(widgets.HBox(button[6:]))\n",
    "    display(HTML(\"<h3>\"+str(i)+\" : \"+data.iloc[i].text+\"</h3>\"))\n",
    "    if i == end :\n",
    "        clear_output()\n",
    "        display(HTML(\"<h3>This is the end, thanks for your help in labeling the data !</h3>\"))\n",
    "\n",
    "def button_back_click(b):\n",
    "    global i\n",
    "    global toRemove\n",
    "    i = i - 1\n",
    "    clear_output()\n",
    "    display(widgets.HBox([button_previous,button_remove,button_next]))\n",
    "    display(widgets.HBox(button[:6]))\n",
    "    display(widgets.HBox(button[6:]))\n",
    "    display(HTML(\"<h3>\"+str(i)+\" : \"+data.iloc[i].text+\"</h3>\"))    \n",
    "    \n",
    "\n",
    "for j in range(len(data.columns[1:])):\n",
    "    button += [widgets.Button(description=data.columns[j+1])]\n",
    "    button[j].on_click(on_button_click[j])\n",
    "    \n",
    "\n",
    "button_next = widgets.Button(description=\"Next description ▶\",button_style='success')\n",
    "button_next.on_click(button_next_click)\n",
    "\n",
    "button_remove = widgets.Button(description=\"Remove 🗑 ▶\", button_style='danger')\n",
    "button_remove.on_click(button_remove_click)\n",
    "\n",
    "button_previous = widgets.Button(description=\"◀ Previous description\", button_style='info')\n",
    "button_previous.on_click(button_back_click)\n",
    "\n",
    "\n",
    "display(widgets.HBox([button_previous,button_remove,button_next]))\n",
    "display(widgets.HBox(button[:6]))\n",
    "display(widgets.HBox(button[6:]))\n",
    "display(HTML(\"<h3>\"+str(i)+\" : \"+data.iloc[i].text+\"</h3>\"))"
   ]
  },
  {
   "cell_type": "code",
   "execution_count": 37,
   "metadata": {},
   "outputs": [
    {
     "data": {
      "text/plain": [
       "text                     the first couple days i had it, it used batter...\n",
       "apps_update                                                            NaN\n",
       "battery_life_charging                                                    1\n",
       "battery_overheat                                                       NaN\n",
       "camera                                                                 NaN\n",
       "connectivity                                                           NaN\n",
       "customerservice                                                        NaN\n",
       "locking_system                                                           1\n",
       "memory_storage                                                         NaN\n",
       "screen                                                                 NaN\n",
       "software_bugs                                                          NaN\n",
       "sound                                                                  NaN\n",
       "system                                                                   1\n",
       "water_damage                                                           NaN\n",
       "Name: 674, dtype: object"
      ]
     },
     "execution_count": 37,
     "metadata": {},
     "output_type": "execute_result"
    }
   ],
   "source": [
    "data.iloc[674]"
   ]
  },
  {
   "cell_type": "code",
   "execution_count": null,
   "metadata": {},
   "outputs": [],
   "source": [
    "# A few lines for filtering the dataset\n",
    "toKeep = []\n",
    "for i in range(start,end):\n",
    "    if i not in toRemove:\n",
    "        toKeep += [i]\n",
    "\n",
    "#data_eric = data.filter(toKeep, axis=0)\n",
    "data.to_csv(\"data_labeled_eric.csv\")"
   ]
  },
  {
   "cell_type": "code",
   "execution_count": 48,
   "metadata": {},
   "outputs": [],
   "source": [
    "data.to_csv(\"data_to_label_group_1_mathilde_eric_sacha.csv\")"
   ]
  },
  {
   "cell_type": "code",
   "execution_count": null,
   "metadata": {},
   "outputs": [],
   "source": []
  },
  {
   "cell_type": "code",
   "execution_count": null,
   "metadata": {},
   "outputs": [],
   "source": []
  }
 ],
 "metadata": {
  "kernelspec": {
   "display_name": "Python 3",
   "language": "python",
   "name": "python3"
  },
  "language_info": {
   "codemirror_mode": {
    "name": "ipython",
    "version": 3
   },
   "file_extension": ".py",
   "mimetype": "text/x-python",
   "name": "python",
   "nbconvert_exporter": "python",
   "pygments_lexer": "ipython3",
   "version": "3.6.3"
  }
 },
 "nbformat": 4,
 "nbformat_minor": 2
}
