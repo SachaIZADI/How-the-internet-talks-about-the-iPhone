{
 "cells": [
  {
   "cell_type": "markdown",
   "metadata": {},
   "source": [
    "This is what the interactive notebook looks like:\n",
    "\n",
    "\n",
    "\n",
    "\n",
    "<img src=\"Img/visu.png\">"
   ]
  },
  {
   "cell_type": "code",
   "execution_count": 1,
   "metadata": {},
   "outputs": [],
   "source": [
    "from ipywidgets import widgets\n",
    "from IPython.display import display\n",
    "from IPython.core.display import HTML\n",
    "from IPython.display import clear_output\n",
    "from ipywidgets import Output\n",
    "import time\n",
    "\n",
    "import pandas as pd"
   ]
  },
  {
   "cell_type": "code",
   "execution_count": 2,
   "metadata": {},
   "outputs": [],
   "source": [
    "data = pd.read_csv(\"data_to_label_group1.csv\")"
   ]
  },
  {
   "cell_type": "code",
   "execution_count": 3,
   "metadata": {},
   "outputs": [],
   "source": [
    "# Starting point \n",
    "start = 601\n",
    "\n",
    "# End point\n",
    "end = 801"
   ]
  },
  {
   "cell_type": "code",
   "execution_count": 34,
   "metadata": {
    "scrolled": true
   },
   "outputs": [
    {
     "data": {
      "application/vnd.jupyter.widget-view+json": {
       "model_id": "6d08e8b503654cb395fd3147182d9fd8",
       "version_major": 2,
       "version_minor": 0
      },
      "text/plain": [
       "A Jupyter Widget"
      ]
     },
     "metadata": {},
     "output_type": "display_data"
    },
    {
     "data": {
      "application/vnd.jupyter.widget-view+json": {
       "model_id": "9b68a14010624c84b8ed1c851e79d749",
       "version_major": 2,
       "version_minor": 0
      },
      "text/plain": [
       "A Jupyter Widget"
      ]
     },
     "metadata": {},
     "output_type": "display_data"
    },
    {
     "data": {
      "application/vnd.jupyter.widget-view+json": {
       "model_id": "cf3418db77a448119ca54572e9777968",
       "version_major": 2,
       "version_minor": 0
      },
      "text/plain": [
       "A Jupyter Widget"
      ]
     },
     "metadata": {},
     "output_type": "display_data"
    },
    {
     "data": {
      "text/html": [
       "<h3>606 : typical apple product not much improvement overall very similar to the last for five phones were out but it works good for my kids</h3>"
      ],
      "text/plain": [
       "<IPython.core.display.HTML object>"
      ]
     },
     "metadata": {},
     "output_type": "display_data"
    }
   ],
   "source": [
    "button = []\n",
    "toRemove = []\n",
    "######## Starting Point ############\n",
    "i = 601\n",
    "\n",
    "def change_value(i,j):\n",
    "    data.iloc[i,j] = 1\n",
    "\n",
    "on_button_click = [lambda b : change_value(i,1)]\n",
    "on_button_click += [lambda b : change_value(i,2)]\n",
    "on_button_click += [lambda b : change_value(i,3)]\n",
    "on_button_click += [lambda b : change_value(i,4)]\n",
    "on_button_click += [lambda b : change_value(i,5)]\n",
    "on_button_click += [lambda b : change_value(i,6)]\n",
    "on_button_click += [lambda b : change_value(i,7)]\n",
    "on_button_click += [lambda b : change_value(i,8)]\n",
    "on_button_click += [lambda b : change_value(i,9)]\n",
    "on_button_click += [lambda b : change_value(i,10)]\n",
    "on_button_click += [lambda b : change_value(i,11)]\n",
    "on_button_click += [lambda b : change_value(i,12)]\n",
    "on_button_click += [lambda b : change_value(i,13)]\n",
    "\n",
    "def button_next_click(b):\n",
    "    global i\n",
    "    i += 1\n",
    "    clear_output()\n",
    "    display(widgets.HBox([button_previous,button_remove,button_next]))\n",
    "    display(widgets.HBox(button[:6]))\n",
    "    display(widgets.HBox(button[6:]))\n",
    "    display(HTML(\"<h3>\"+str(i)+\" : \"+data.iloc[i].text+\"</h3>\"))\n",
    "\n",
    "    \n",
    "def button_remove_click(b):\n",
    "    global i\n",
    "    global toRemove\n",
    "    toRemove+=[i]\n",
    "    i += 1\n",
    "    clear_output()\n",
    "    display(widgets.HBox([button_previous,button_remove,button_next]))\n",
    "    display(widgets.HBox(button[:6]))\n",
    "    display(widgets.HBox(button[6:]))\n",
    "    display(HTML(\"<h3>\"+str(i)+\" : \"+data.iloc[i].text+\"</h3>\"))\n",
    "\n",
    "def button_back_click(b):\n",
    "    global i\n",
    "    i = i - 1\n",
    "    clear_output()\n",
    "    display(widgets.HBox([button_previous,button_remove,button_next]))\n",
    "    display(widgets.HBox(button[:6]))\n",
    "    display(widgets.HBox(button[6:]))\n",
    "    display(HTML(\"<h3>\"+str(i)+\" : \"+data.iloc[i].text+\"</h3>\"))    \n",
    "    \n",
    "\n",
    "for j in range(len(data.columns[1:])):\n",
    "    button += [widgets.Button(description=data.columns[j+1])]\n",
    "    button[j].on_click(on_button_click[j])\n",
    "    \n",
    "\n",
    "button_next = widgets.Button(description=\"Next description ▶\",button_style='success')\n",
    "button_next.on_click(button_next_click)\n",
    "\n",
    "button_remove = widgets.Button(description=\"Remove 🗑 ▶\", button_style='danger')\n",
    "button_remove.on_click(button_remove_click)\n",
    "\n",
    "button_previous = widgets.Button(description=\"◀ Previous description\", button_style='info')\n",
    "button_previous.on_click(button_back_click)\n",
    "\n",
    "\n",
    "display(widgets.HBox([button_previous,button_remove,button_next]))\n",
    "display(widgets.HBox(button[:6]))\n",
    "display(widgets.HBox(button[6:]))"
   ]
  },
  {
   "cell_type": "code",
   "execution_count": null,
   "metadata": {},
   "outputs": [],
   "source": [
    "# A few lines for filtering the dataset\n",
    "toKeep = []\n",
    "for i in range(600,800):\n",
    "    if i not in toRemove:\n",
    "        toKeep += [i]\n",
    "\n",
    "data_sacha = data.filter(toKeep, axis=0)\n",
    "data_sacha.to_csv(\"data_labeled_Sacha.csv\")"
   ]
  }
 ],
 "metadata": {
  "kernelspec": {
   "display_name": "Python 3",
   "language": "python",
   "name": "python3"
  },
  "language_info": {
   "codemirror_mode": {
    "name": "ipython",
    "version": 3
   },
   "file_extension": ".py",
   "mimetype": "text/x-python",
   "name": "python",
   "nbconvert_exporter": "python",
   "pygments_lexer": "ipython3",
   "version": "3.6.3"
  }
 },
 "nbformat": 4,
 "nbformat_minor": 2
}
