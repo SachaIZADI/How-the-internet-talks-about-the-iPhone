{
 "cells": [
  {
   "cell_type": "code",
   "execution_count": 20,
   "metadata": {},
   "outputs": [],
   "source": [
    "from ipywidgets import widgets\n",
    "from IPython.display import display\n",
    "from IPython.core.display import HTML\n",
    "from IPython.display import clear_output\n",
    "from ipywidgets import Output\n",
    "import time\n",
    "\n",
    "import pandas as pd"
   ]
  },
  {
   "cell_type": "code",
   "execution_count": 21,
   "metadata": {},
   "outputs": [],
   "source": [
    "data = pd.read_csv(\"data_to_label_group1.csv\")"
   ]
  },
  {
   "cell_type": "code",
   "execution_count": 22,
   "metadata": {
    "scrolled": false
   },
   "outputs": [
    {
     "data": {
      "application/vnd.jupyter.widget-view+json": {
       "model_id": "41cbf9158e0e4e90948caf7f0149f8e6",
       "version_major": 2,
       "version_minor": 0
      },
      "text/plain": [
       "A Jupyter Widget"
      ]
     },
     "metadata": {},
     "output_type": "display_data"
    },
    {
     "data": {
      "application/vnd.jupyter.widget-view+json": {
       "model_id": "99607f57e5434fb189dda145f00a9cae",
       "version_major": 2,
       "version_minor": 0
      },
      "text/plain": [
       "A Jupyter Widget"
      ]
     },
     "metadata": {},
     "output_type": "display_data"
    },
    {
     "data": {
      "application/vnd.jupyter.widget-view+json": {
       "model_id": "7ef95f85c42042bb8f243ec53456dfbb",
       "version_major": 2,
       "version_minor": 0
      },
      "text/plain": [
       "A Jupyter Widget"
      ]
     },
     "metadata": {},
     "output_type": "display_data"
    },
    {
     "data": {
      "text/html": [
       "801 : love the extra storage, sleek look and the upgraded screen resolution, cameras and wireless charging capabilities."
      ],
      "text/plain": [
       "<IPython.core.display.HTML object>"
      ]
     },
     "metadata": {},
     "output_type": "display_data"
    }
   ],
   "source": [
    "button = []\n",
    "toRemove = []\n",
    "######## Starting Point ############\n",
    "i = 601\n",
    "\n",
    "def change_value(i,j):\n",
    "    data.iloc[i,j] = 1\n",
    "\n",
    "on_button_click = [lambda b : change_value(i,1)]\n",
    "on_button_click += [lambda b : change_value(i,2)]\n",
    "on_button_click += [lambda b : change_value(i,3)]\n",
    "on_button_click += [lambda b : change_value(i,4)]\n",
    "on_button_click += [lambda b : change_value(i,5)]\n",
    "on_button_click += [lambda b : change_value(i,6)]\n",
    "on_button_click += [lambda b : change_value(i,7)]\n",
    "on_button_click += [lambda b : change_value(i,8)]\n",
    "on_button_click += [lambda b : change_value(i,9)]\n",
    "on_button_click += [lambda b : change_value(i,10)]\n",
    "on_button_click += [lambda b : change_value(i,11)]\n",
    "on_button_click += [lambda b : change_value(i,12)]\n",
    "on_button_click += [lambda b : change_value(i,13)]\n",
    "\n",
    "def button_next_click(b):\n",
    "    global i\n",
    "    i += 1\n",
    "    clear_output()\n",
    "    display(widgets.HBox([button_remove,button_next]))\n",
    "    display(widgets.HBox(button[:6]))\n",
    "    display(widgets.HBox(button[6:]))\n",
    "    display(HTML(str(i)+\" : \"+data.iloc[i].text))\n",
    "\n",
    "    \n",
    "def button_remove_click(b):\n",
    "    global i\n",
    "    global toRemove\n",
    "    toRemove+=[i]\n",
    "    i += 1\n",
    "    clear_output()\n",
    "    display(widgets.HBox([button_remove,button_next]))\n",
    "    display(widgets.HBox(button[:6]))\n",
    "    display(widgets.HBox(button[6:]))\n",
    "    display(HTML(str(i)+\" : \"+data.iloc[i].text))\n",
    "    \n",
    "    \n",
    "\n",
    "for j in range(len(data.columns[1:])):\n",
    "    button += [widgets.Button(description=data.columns[j+1])]\n",
    "    button[j].on_click(on_button_click[j])\n",
    "    \n",
    "\n",
    "button_next = widgets.Button(description=\"Next description\", button_style='success')\n",
    "button_next.on_click(button_next_click)\n",
    "button_remove = widgets.Button(description=\"Remove description\", button_style='danger')\n",
    "button_remove.on_click(button_remove_click)\n",
    "\n",
    "\n",
    "display(widgets.HBox([button_remove,button_next]))\n",
    "display(widgets.HBox(button[:6]))\n",
    "display(widgets.HBox(button[6:]))"
   ]
  },
  {
   "cell_type": "code",
   "execution_count": 36,
   "metadata": {},
   "outputs": [],
   "source": [
    "toKeep = []\n",
    "for i in range(600,800):\n",
    "    if i not in toRemove:\n",
    "        toKeep += [i]"
   ]
  },
  {
   "cell_type": "code",
   "execution_count": 39,
   "metadata": {},
   "outputs": [],
   "source": [
    "data_sacha = data.filter(toKeep, axis=0)"
   ]
  },
  {
   "cell_type": "code",
   "execution_count": 41,
   "metadata": {},
   "outputs": [],
   "source": [
    "data_sacha.to_csv(\"data_labeled_Sacha.csv\")"
   ]
  },
  {
   "cell_type": "code",
   "execution_count": null,
   "metadata": {},
   "outputs": [],
   "source": []
  }
 ],
 "metadata": {
  "kernelspec": {
   "display_name": "Python 3",
   "language": "python",
   "name": "python3"
  },
  "language_info": {
   "codemirror_mode": {
    "name": "ipython",
    "version": 3
   },
   "file_extension": ".py",
   "mimetype": "text/x-python",
   "name": "python",
   "nbconvert_exporter": "python",
   "pygments_lexer": "ipython3",
   "version": "3.6.3"
  }
 },
 "nbformat": 4,
 "nbformat_minor": 2
}
